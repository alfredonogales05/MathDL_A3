{
 "cells": [
  {
   "cell_type": "code",
   "id": "initial_id",
   "metadata": {
    "collapsed": true,
    "ExecuteTime": {
     "end_time": "2024-05-23T17:35:49.055769Z",
     "start_time": "2024-05-23T17:35:46.509544Z"
    }
   },
   "source": "import torch ",
   "outputs": [],
   "execution_count": 1
  },
  {
   "metadata": {
    "ExecuteTime": {
     "end_time": "2024-05-23T17:35:50.877465Z",
     "start_time": "2024-05-23T17:35:50.836358Z"
    }
   },
   "cell_type": "code",
   "source": "torch.cuda.is_available()",
   "id": "efa6b9065ba1c7a0",
   "outputs": [
    {
     "data": {
      "text/plain": [
       "True"
      ]
     },
     "execution_count": 2,
     "metadata": {},
     "output_type": "execute_result"
    }
   ],
   "execution_count": 2
  },
  {
   "metadata": {
    "ExecuteTime": {
     "end_time": "2024-05-23T17:35:53.685770Z",
     "start_time": "2024-05-23T17:35:53.673245Z"
    }
   },
   "cell_type": "code",
   "source": [
    "x = torch.rand(5,3)\n",
    "print(x)"
   ],
   "id": "3eec2e143987cb8c",
   "outputs": [
    {
     "name": "stdout",
     "output_type": "stream",
     "text": [
      "tensor([[0.8525, 0.2389, 0.9277],\n",
      "        [0.2332, 0.1534, 0.5186],\n",
      "        [0.4840, 0.2262, 0.2785],\n",
      "        [0.6702, 0.8685, 0.1208],\n",
      "        [0.1500, 0.4057, 0.9821]])\n"
     ]
    }
   ],
   "execution_count": 3
  },
  {
   "metadata": {
    "ExecuteTime": {
     "end_time": "2024-05-23T17:40:44.968493Z",
     "start_time": "2024-05-23T17:40:44.951114Z"
    }
   },
   "cell_type": "code",
   "source": "100%10",
   "id": "cbff7696bcef3639",
   "outputs": [
    {
     "data": {
      "text/plain": [
       "0"
      ]
     },
     "execution_count": 5,
     "metadata": {},
     "output_type": "execute_result"
    }
   ],
   "execution_count": 5
  },
  {
   "metadata": {
    "ExecuteTime": {
     "end_time": "2024-05-23T17:48:11.254467Z",
     "start_time": "2024-05-23T17:48:11.239022Z"
    }
   },
   "cell_type": "code",
   "source": [
    "def get_train_data(dim=1):\n",
    "    \"\"\"\n",
    "    dim is the number of features in the input. for our purposes it will be either 1 or 2.\n",
    "    \"\"\"\n",
    "    X_2 = torch.tensor(\n",
    "        [[24.,  2.],\n",
    "         [24.,  4.],\n",
    "         [16.,  3.],\n",
    "         [25.,  6.],\n",
    "         [16.,  1.],\n",
    "         [19.,  2.],\n",
    "         [14.,  3.],\n",
    "         [22.,  2.],\n",
    "         [25.,  4.],\n",
    "         [12.,  1.],\n",
    "         [24.,  7.],\n",
    "         [19.,  1.],\n",
    "         [23.,  7.],\n",
    "         [19.,  5.],\n",
    "         [21.,  3.],\n",
    "         [16.,  6.],\n",
    "         [24.,  5.],\n",
    "         [19.,  7.],\n",
    "         [14.,  4.],\n",
    "         [20.,  3.]])\n",
    "    y = torch.tensor(\n",
    "        [[1422.4000],\n",
    "         [1469.5000],\n",
    "         [1012.7000],\n",
    "         [1632.2000],\n",
    "         [952.2000],\n",
    "         [1117.7000],\n",
    "         [906.2000],\n",
    "         [1307.3000],\n",
    "         [1552.8000],\n",
    "         [686.7000],\n",
    "         [1543.4000],\n",
    "         [1086.5000],\n",
    "         [1495.2000],\n",
    "         [1260.7000],\n",
    "         [1288.1000],\n",
    "         [1111.5000],\n",
    "         [1523.1000],\n",
    "         [1297.4000],\n",
    "         [946.4000],\n",
    "         [1197.1000]])\n",
    "    if dim == 1:\n",
    "        X = X_2[:, :1]\n",
    "    elif dim == 2:\n",
    "        X = X_2\n",
    "    else:\n",
    "        raise ValueError(\"dim must be 1 or 2\")\n",
    "    return X, y\n",
    "\n"
   ],
   "id": "3a8ded00d5f9c450",
   "outputs": [],
   "execution_count": 6
  },
  {
   "metadata": {
    "ExecuteTime": {
     "end_time": "2024-05-23T17:48:28.915045Z",
     "start_time": "2024-05-23T17:48:28.901673Z"
    }
   },
   "cell_type": "code",
   "source": [
    "X, y = get_train_data(dim=1)\n",
    "X2, y2 = get_train_data(dim=2)"
   ],
   "id": "31d206f4e9e5fd22",
   "outputs": [],
   "execution_count": 7
  },
  {
   "metadata": {
    "ExecuteTime": {
     "end_time": "2024-05-23T17:48:36.399774Z",
     "start_time": "2024-05-23T17:48:36.387725Z"
    }
   },
   "cell_type": "code",
   "source": "X.shape",
   "id": "690c604f25631701",
   "outputs": [
    {
     "data": {
      "text/plain": [
       "torch.Size([20, 1])"
      ]
     },
     "execution_count": 8,
     "metadata": {},
     "output_type": "execute_result"
    }
   ],
   "execution_count": 8
  },
  {
   "metadata": {
    "ExecuteTime": {
     "end_time": "2024-05-23T17:48:46.726895Z",
     "start_time": "2024-05-23T17:48:46.712285Z"
    }
   },
   "cell_type": "code",
   "source": "X2.shape",
   "id": "f564236e94f92cf0",
   "outputs": [
    {
     "data": {
      "text/plain": [
       "torch.Size([20, 2])"
      ]
     },
     "execution_count": 9,
     "metadata": {},
     "output_type": "execute_result"
    }
   ],
   "execution_count": 9
  },
  {
   "metadata": {
    "ExecuteTime": {
     "end_time": "2024-05-23T17:50:25.410327Z",
     "start_time": "2024-05-23T17:50:25.389770Z"
    }
   },
   "cell_type": "code",
   "source": "X2.shape[1]",
   "id": "fabd9d5922bcf511",
   "outputs": [
    {
     "data": {
      "text/plain": [
       "2"
      ]
     },
     "execution_count": 18,
     "metadata": {},
     "output_type": "execute_result"
    }
   ],
   "execution_count": 18
  },
  {
   "metadata": {
    "ExecuteTime": {
     "end_time": "2024-05-23T18:24:28.584678Z",
     "start_time": "2024-05-23T18:24:28.571166Z"
    }
   },
   "cell_type": "code",
   "source": "(torch.tensor([[1252.2035],[939.0673],[627.9310]]) - torch.tensor([[1252.3008],[939.9971],[627.6935]])).abs() < 2",
   "id": "bd18aca0668b1309",
   "outputs": [
    {
     "data": {
      "text/plain": [
       "tensor([[True],\n",
       "        [True],\n",
       "        [True]])"
      ]
     },
     "execution_count": 22,
     "metadata": {},
     "output_type": "execute_result"
    }
   ],
   "execution_count": 22
  },
  {
   "metadata": {},
   "cell_type": "code",
   "outputs": [],
   "execution_count": null,
   "source": "",
   "id": "6c7efc72ca6ca64a"
  }
 ],
 "metadata": {
  "kernelspec": {
   "display_name": "Python 3",
   "language": "python",
   "name": "python3"
  },
  "language_info": {
   "codemirror_mode": {
    "name": "ipython",
    "version": 2
   },
   "file_extension": ".py",
   "mimetype": "text/x-python",
   "name": "python",
   "nbconvert_exporter": "python",
   "pygments_lexer": "ipython2",
   "version": "2.7.6"
  }
 },
 "nbformat": 4,
 "nbformat_minor": 5
}
